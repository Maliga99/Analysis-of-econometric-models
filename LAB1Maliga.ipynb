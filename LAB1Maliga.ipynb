{
 "cells": [
  {
   "cell_type": "markdown",
   "metadata": {},
   "source": [
    "# Задание №1 \n",
    "### №1.1 "
   ]
  },
  {
   "cell_type": "code",
   "execution_count": 1,
   "metadata": {},
   "outputs": [
    {
     "name": "stdout",
     "output_type": "stream",
     "text": [
      "[12.  10.9  9.8  8.7  7.6  6.5]\n"
     ]
    }
   ],
   "source": [
    "import numpy as np\n",
    "import random\n",
    "\n",
    "number = 12\n",
    "surname_lenght = 6\n",
    "name_lenght = 4\n",
    "\n",
    "v1 = np.linspace(number, 6.5, surname_lenght)\n",
    "print(v1)"
   ]
  },
  {
   "cell_type": "markdown",
   "metadata": {},
   "source": [
    "### №1.2 "
   ]
  },
  {
   "cell_type": "markdown",
   "metadata": {},
   "source": [
    "$$ b_{name\\_lenght} = b_1 * q^{name\\_lenght-1}, \\; где \\; b_1 = |13 - number| + 2  \\Rightarrow \\; q = \\sqrt[name\\_lenght-1]{\\frac{b_{name\\_lenght}}{b_1}}$$ "
   ]
  },
  {
   "cell_type": "code",
   "execution_count": 2,
   "metadata": {},
   "outputs": [
    {
     "name": "stdout",
     "output_type": "stream",
     "text": [
      "[  3.           9.65489385  31.07232506 100.        ]\n"
     ]
    }
   ],
   "source": [
    "b_n = 100\n",
    "b_1 = np.abs(13 - number) + 2\n",
    "q = (b_n / b_1) ** (1/3)\n",
    "\n",
    "v2 = np.empty((name_lenght,))\n",
    "v2[0] = b_1\n",
    "v2[1:] = q\n",
    "v2 = np.cumprod(v2)\n",
    "\n",
    "print(v2)"
   ]
  },
  {
   "cell_type": "markdown",
   "metadata": {},
   "source": [
    "### №1.3"
   ]
  },
  {
   "cell_type": "code",
   "execution_count": 3,
   "metadata": {},
   "outputs": [
    {
     "name": "stdout",
     "output_type": "stream",
     "text": [
      "[10.9, 12.0, 7.6]\n"
     ]
    }
   ],
   "source": [
    "random.seed(42)\n",
    "\n",
    "v = np.concatenate([v1, v2])\n",
    "v3 = random.sample(list(v), 3)\n",
    "\n",
    "print(v3)"
   ]
  },
  {
   "cell_type": "markdown",
   "metadata": {},
   "source": [
    "# Задание 2\n",
    "### Вариант 2"
   ]
  },
  {
   "cell_type": "code",
   "execution_count": 4,
   "metadata": {},
   "outputs": [
    {
     "name": "stdout",
     "output_type": "stream",
     "text": [
      "1\n"
     ]
    }
   ],
   "source": [
    "s = 'аааааб'\n",
    "\n",
    "start, finish = 1072, 1103\n",
    "alf = [chr(i) for i in range(start, finish + 1, 2)]\n",
    "\n",
    "ind_ = np.prod([2 * alf.index(i) + 1 for i in s if i in alf])\n",
    "print(ind_)"
   ]
  },
  {
   "cell_type": "markdown",
   "metadata": {},
   "source": [
    "# Задание 3"
   ]
  },
  {
   "cell_type": "code",
   "execution_count": 63,
   "metadata": {},
   "outputs": [
    {
     "name": "stdout",
     "output_type": "stream",
     "text": [
      "[[12.  10.9  9.8  8.7  7.6]\n",
      " [ 6.5 12.  10.9  9.8  8.7]\n",
      " [ 7.6  6.5 12.  10.9  9.8]\n",
      " [ 8.7  7.6  6.5 12.  10.9]\n",
      " [ 9.8  8.7  7.6  6.5 12. ]]\n",
      "11\n",
      "           December   January  February  March  April\n",
      "December        12.0     10.9       9.8    8.7    7.6\n",
      "January          6.5     12.0      10.9    9.8    8.7\n",
      "February         7.6      6.5      12.0   10.9    9.8\n",
      "March            8.7      7.6       6.5   12.0   10.9\n",
      "April            9.8      8.7       7.6    6.5   12.0\n",
      "         January  March\n",
      "January     12.0    9.8\n",
      "March        7.6   12.0\n",
      "[[47733.5104 55319.04  ]\n",
      " [33269.76   47733.5104]]\n"
     ]
    }
   ],
   "source": [
    "row, col = 5, 5 \n",
    "v = list(v1) * (row * col // len(v1)) \n",
    "v1 = v + v[:(row * col - len(v))]\n",
    "\n",
    "if v3[0] > 10:\n",
    "    m = np.array(v1).reshape(row, col)\n",
    "else:\n",
    "    m = np.array(v1).reshape(row, col).transpose()\n",
    "    \n",
    "print(m)\n",
    "\n",
    "\n",
    "import pandas as pd\n",
    "\n",
    "month = ['January', 'February', 'March', 'April', 'May', 'June',\n",
    "         'July', 'August', 'September', 'October', 'November', 'December ']\n",
    "\n",
    "start_index = (number - 1) % 12\n",
    "print(start_index)\n",
    "\n",
    "names = []\n",
    "\n",
    "if start_index > 7:\n",
    "    names = month[start_index:]\n",
    "    names += month[:5 - len(names)]\n",
    "else:\n",
    "    names = month[start_index : start_index + 5]\n",
    "\n",
    "\n",
    "m = pd.DataFrame(data = m, index = names, columns = names)\n",
    "\n",
    "print(m)\n",
    "\n",
    "m1_col = [i for i in names if i[0] > 'F']\n",
    "\n",
    "m1 = m.loc[m1_col, m1_col]\n",
    "print(m1)\n",
    "\n",
    "det = np.linalg.det(m1.values)\n",
    "l = np.linalg.eig(m1.values)\n",
    "diag = m1.values[range(0, m1.shape[0]), range(0, m1.shape[0])]\n",
    "v1_ = np.dot(m1.values, m1.values)\n",
    "v2_ = v1_ ** 2\n",
    "\n",
    "print(v2_)"
   ]
  },
  {
   "cell_type": "markdown",
   "metadata": {},
   "source": [
    "# Задание 4"
   ]
  },
  {
   "cell_type": "code",
   "execution_count": 64,
   "metadata": {},
   "outputs": [
    {
     "name": "stdout",
     "output_type": "stream",
     "text": [
      "     digits  boolean      strings\n",
      "0    22.000     True         fdsf\n",
      "1   231.000     True  abracadabra\n",
      "2  4534.324    False        sadas\n",
      "\n",
      "1    abracadabra\n",
      "Name: strings, dtype: object\n"
     ]
    }
   ],
   "source": [
    "import pandas as pd\n",
    "import numpy as np\n",
    "\n",
    "\n",
    "frame = pd.DataFrame({'digits' : [22, 231, 4534.324], 'boolean' : [True, True, False],\n",
    "                     'strings' : ['fdsf', 'abracadabra', 'sadas']})\n",
    "\n",
    "print(frame)\n",
    "print()\n",
    "\n",
    "n = 25\n",
    "print(frame[(frame['digits'] > n) & (frame['boolean'] == True)].strings)"
   ]
  },
  {
   "cell_type": "markdown",
   "metadata": {},
   "source": [
    "# Задание 5\n",
    "### Вариант 5"
   ]
  },
  {
   "cell_type": "code",
   "execution_count": 65,
   "metadata": {},
   "outputs": [
    {
     "name": "stdout",
     "output_type": "stream",
     "text": [
      "[[1. 0. 2.]\n",
      " [2. 0. 0.]\n",
      " [3. 0. 1.]]\n",
      "[0. 0. 0.]\n",
      "[[False  True False]\n",
      " [False  True  True]\n",
      " [False  True False]]\n",
      "11.0\n"
     ]
    }
   ],
   "source": [
    "file = open('data.rtf', 'r')\n",
    "data = file.readlines()\n",
    "data = [line.rstrip().split() for line in data]\n",
    "\n",
    "mas = np.array(data, dtype=float).reshape(3,3)\n",
    "print(mas)\n",
    "\n",
    "mins = mas.min(axis=1)\n",
    "print(mins)\n",
    "\n",
    "bo = np.array([~(mas[i,:] > mins[i]) for i in range(0, len(mins))]).reshape(3,3)\n",
    "print(bo)\n",
    "s = sum([mas[i, (j+1)%3] ** ((i+j+2)%3 + 1) for i, j in zip(*np.where(bo == True))])\n",
    "\n",
    "print(s)"
   ]
  },
  {
   "cell_type": "markdown",
   "metadata": {},
   "source": [
    "# Задание 6\n",
    "### №6.1\n",
    "##### Алгоритм кодирования Хаффмана:\n",
    "1. Построить частотный словарь букв с помощью  Counter\n",
    "2. Добавить его в очередь с приоритетом \n",
    "3. Пока в очереди есть два элемента, достаем два элемента с минимальными частотами и добавляем сумму обратно в очередь\n",
    "4. Реализуем два класса Leaf и Node\n",
    "5. Обойдем все дерево, начиная с корня. Если идем в левого потомка, то добавляем 0, правого - 1"
   ]
  },
  {
   "cell_type": "code",
   "execution_count": 67,
   "metadata": {
    "scrolled": true
   },
   "outputs": [
    {
     "name": "stdout",
     "output_type": "stream",
     "text": [
      "{'a': '0', 'b': '10', 'r': '11'}\n",
      "010110\n"
     ]
    }
   ],
   "source": [
    "import heapq\n",
    "from collections import Counter, namedtuple\n",
    "\n",
    "\n",
    "class Node(namedtuple('Node', ['left', 'right'])):\n",
    "    def walk(self, code, pref):\n",
    "        self.left.walk(code, pref + '0')\n",
    "        self.right.walk(code, pref + '1')\n",
    "        \n",
    "\n",
    "class Leaf(namedtuple('Leaf', ['count'])):\n",
    "    def walk(self, code, pref):\n",
    "        code[self.count] = pref or '0'\n",
    "        \n",
    "    \n",
    "def encode(s):\n",
    "    \n",
    "    numb = 0\n",
    "    queue = []\n",
    "    for symb, count in Counter(s).items():\n",
    "        queue.append((count, numb, Leaf(symb)))\n",
    "        numb += 1\n",
    "    \n",
    "    \n",
    "    heapq.heapify(queue)\n",
    "    \n",
    "    numb = len(queue)\n",
    "    \n",
    "    while len(queue) > 1:\n",
    "        count_1, numb_1, left = heapq.heappop(queue)\n",
    "        count_2, numb_2, right = heapq.heappop(queue)\n",
    "        heapq.heappush(queue, (count_1 + count_2, numb, Node(left, right)))\n",
    "        numb += 1\n",
    "    \n",
    "    [(_count, numb, root)] = queue\n",
    "    code = {}\n",
    "    root.walk(code, '')\n",
    "    \n",
    "    return code\n",
    "\n",
    "\n",
    "s = 'abra'\n",
    "code = encode(s)\n",
    "print(code)\n",
    "\n",
    "line = ''.join(code[i] for i in s)\n",
    "print(line)"
   ]
  },
  {
   "cell_type": "markdown",
   "metadata": {},
   "source": [
    "### №6.2"
   ]
  },
  {
   "cell_type": "code",
   "execution_count": 72,
   "metadata": {},
   "outputs": [
    {
     "name": "stdout",
     "output_type": "stream",
     "text": [
      "abra\n"
     ]
    }
   ],
   "source": [
    "k = len(s)\n",
    "l = len(line)\n",
    "dictionary = code\n",
    "code_line = line\n",
    "\n",
    "\n",
    "q = ''\n",
    "values = list(dictionary.values())\n",
    "keys = list(dictionary.keys())\n",
    "decode_line = ''\n",
    "\n",
    "for symb in code_line:\n",
    "    q += symb\n",
    "    if q in values:\n",
    "        decode_line += keys[values.index(q)]\n",
    "        q = ''\n",
    "\n",
    "print(decode_line)"
   ]
  },
  {
   "cell_type": "code",
   "execution_count": null,
   "metadata": {},
   "outputs": [],
   "source": []
  }
 ],
 "metadata": {
  "kernelspec": {
   "display_name": "Python 3",
   "language": "python",
   "name": "python3"
  },
  "language_info": {
   "codemirror_mode": {
    "name": "ipython",
    "version": 3
   },
   "file_extension": ".py",
   "mimetype": "text/x-python",
   "name": "python",
   "nbconvert_exporter": "python",
   "pygments_lexer": "ipython3",
   "version": "3.7.1"
  }
 },
 "nbformat": 4,
 "nbformat_minor": 2
}
